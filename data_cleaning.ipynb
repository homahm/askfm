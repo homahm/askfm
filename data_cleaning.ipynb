{
 "cells": [
  {
   "cell_type": "code",
   "execution_count": 2,
   "metadata": {
    "collapsed": false
   },
   "outputs": [],
   "source": [
    "import re\n",
    "import datetime as dt\n",
    "import time\n",
    "import numpy as np\n",
    "#import langdetect\n",
    "import pandas as pd\n",
    " \n",
    "def getLikes(html):    \n",
    "    search_word = '<a class=\"counter\"(.+?)</a>'\n",
    "    Likes = re.compile(search_word,re.DOTALL)\n",
    "    LikesList = re.findall(Likes,html)\n",
    "    return LikesList\n",
    "\n",
    "def getAuthor(html):\n",
    "    search_word = '<a class=\"questionersName\" href=\"(.+?)</a>'\n",
    "    Author= re.compile(search_word,re.DOTALL)\n",
    "    AuthorList = re.findall(Author,html)\n",
    "    return AuthorList\n",
    "\n",
    "def getAnswer(html):\n",
    "    search_word = '<div class=\"answerWrapper\">(.+?)<p class=\"readMore\">'\n",
    "    Answer = re.compile(search_word,re.DOTALL)\n",
    "    AnswerList = re.findall(Answer,html)\n",
    "    return AnswerList\n",
    "\n",
    "def getQuestion(html):\n",
    "    search_word = '\\n      <h2>(.+?)</h2>'\n",
    "    Question = re.compile(search_word,re.DOTALL)\n",
    "    QuestionList = re.findall(Question,html)\n",
    "    return QuestionList\n",
    "\n",
    "def getTimeofPost(html):\n",
    "    search_word = '<a class=\"streamItemsAge\" title=\"(.+?)\" href='\n",
    "    AnswerDate = re.compile(search_word,re.DOTALL)\n",
    "    AnswerDateList = re.findall(AnswerDate,html)\n",
    "    return AnswerDateList\n",
    "\n",
    "def getLink(html):\n",
    "    search_word = '<div class=\"streamItemContent streamItemContent-visual\">  <div class=\"streamItem-visualItem\"><a (.+?) /></a></div>'\n",
    "    Link = re.compile(search_word,re.DOTALL)\n",
    "    LinkList = re.findall(Link,html)\n",
    "    return LinkList"
   ]
  },
  {
   "cell_type": "code",
   "execution_count": 2,
   "metadata": {
    "collapsed": true
   },
   "outputs": [],
   "source": [
    "f = open('/Users/homa/Documents/python/fulluserdata_start1_0.txt','r')\n",
    "lines = f.read()\n",
    "users = lines.split(\"username:\")"
   ]
  },
  {
   "cell_type": "code",
   "execution_count": null,
   "metadata": {
    "collapsed": false,
    "scrolled": true
   },
   "outputs": [
    {
     "name": "stdout",
     "output_type": "stream",
     "text": [
      "0\n",
      "1\n",
      "2\n",
      "3\n",
      "4\n",
      "5\n",
      "6\n",
      "7\n",
      "8\n",
      "9\n",
      "10\n",
      "11\n",
      "12\n",
      "13\n",
      "14\n",
      "15\n",
      "16\n",
      "17\n",
      "18\n",
      "19\n",
      "20\n",
      "21\n",
      "22\n",
      "23\n",
      "24\n",
      "25\n",
      "26\n",
      "27"
     ]
    }
   ],
   "source": [
    "columns = ['user','question','author','answer','link','likes','date','q_id']\n",
    "df = pd.DataFrame(columns=columns)\n",
    "for n in range(0,len(users)):\n",
    "    print n\n",
    "    t = []\n",
    "    q = []\n",
    "    an = []\n",
    "    au = []\n",
    "    l = []\n",
    "    questions = users[n].split('<div class=\"streamItemContent streamItemContent-question\">')\n",
    "    usr = questions[0][:questions[0].find('<!DOCTYPE html>')]\n",
    "    for ll in questions[1:]:\n",
    "        \n",
    "        t = getTimeofPost(ll)\n",
    "        \n",
    "        q = getQuestion(ll)\n",
    "        if len(q)==0 and ll.find('\\n      <h2>')>-1:\n",
    "            q = ['']\n",
    "            \n",
    "        \n",
    "            \n",
    "        au = getAuthor(ll)\n",
    "        \n",
    "        if len(au)==0:\n",
    "            au=['']\n",
    "            \n",
    "        lnk = getLink(ll)\n",
    "        if len(lnk) == 0 :\n",
    "            lnk = ['']\n",
    "        else:\n",
    "            ind1 = lnk[0].find('data-url=\"')\n",
    "            ind2 = lnk[0].find('\" href=\"')\n",
    "            lnk = lnk[0][ind1+10:ind2]\n",
    "        \n",
    "        an = getAnswer(ll)\n",
    "        indan = an[0].find('<p class=\"streamItemContent streamItemContent-answer\">')\n",
    "        if indan>-1:\n",
    "            an[0] = an[0][indan+54:an[0].find('</p>')]\n",
    "        elif len(lnk[0]) > 0 :\n",
    "            an = ['']\n",
    "                               \n",
    "                               \n",
    "        l = getLikes(ll)\n",
    "        \n",
    "        \n",
    "        temp = pd.DataFrame([[usr.strip(),q[0],au[0],an[0],lnk[0],int(l[0][l[0].find('>')+1:]),t[0],l[0][l[0].find('answers')+8:l[0].find('>')-1]]],columns=columns)\n",
    "        df = df.append(temp,ignore_index=True)\n",
    "\n",
    "df.to_csv('/Users/homa/Documents/python/fulluserdata_start1_0.csv')        "
   ]
  }
 ],
 "metadata": {
  "kernelspec": {
   "display_name": "Python 2",
   "language": "python",
   "name": "python2"
  },
  "language_info": {
   "codemirror_mode": {
    "name": "ipython",
    "version": 2
   },
   "file_extension": ".py",
   "mimetype": "text/x-python",
   "name": "python",
   "nbconvert_exporter": "python",
   "pygments_lexer": "ipython2",
   "version": "2.7.13"
  }
 },
 "nbformat": 4,
 "nbformat_minor": 0
}
