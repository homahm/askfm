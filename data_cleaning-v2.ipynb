{
 "cells": [
  {
   "cell_type": "code",
   "execution_count": 229,
   "metadata": {
    "collapsed": false
   },
   "outputs": [],
   "source": [
    "import re\n",
    "import datetime as dt\n",
    "import time\n",
    "import numpy as np\n",
    "#import langdetect\n",
    "import pandas as pd\n",
    " \n",
    "def getLikes(html):    \n",
    "    search_word = '<a class=\"counter\" (.+?)</a>'\n",
    "    Likes = re.compile(search_word,re.DOTALL)\n",
    "    LikesList = re.findall(Likes,html)\n",
    "    return LikesList\n",
    "\n",
    "def getAuthor(html):\n",
    "    search_word = '<a class=\"questionersName\" href=\"(.+?)</a>'\n",
    "    Author= re.compile(search_word,re.DOTALL)\n",
    "    AuthorList = re.findall(Author,html)\n",
    "    return AuthorList\n",
    "\n",
    "def getAnswer(html):\n",
    "    search_word = '<div class=\"answerWrapper\">(.+?)<p class=\"readMore\">'   \n",
    "    search_word = '<div class=\"answerWrapper\">(.+?)<div class=\"streamItemContent streamItemContent-footer\">'\n",
    "    Answer = re.compile(search_word,re.DOTALL)\n",
    "    AnswerList = re.findall(Answer,html)\n",
    "    return AnswerList\n",
    "\n",
    "def getQuestion(html):\n",
    "    search_word =  '<div class=\"streamItemContent streamItemContent-question\">(.+?)</div>'\n",
    "    Question = re.compile(search_word,re.DOTALL)\n",
    "    QuestionList = re.findall(Question,html)\n",
    "    return QuestionList\n",
    "\n",
    "def getTimeofPost(html):\n",
    "    \n",
    "    search_word = '<a class=\"streamItemsAge\" title=\"(.+?)\" href='\n",
    "    search_word = '<div class=\"streamItemsAge links\">(.+?)\" href='\n",
    "    AnswerDate = re.compile(search_word,re.DOTALL)\n",
    "    AnswerDateList = re.findall(AnswerDate,html)\n",
    "    return AnswerDateList\n",
    "\n",
    "def getLink(html):\n",
    "    search_word = '<div class=\"streamItemContent streamItemContent-visual\">  <div class=\"streamItem-visualItem\"><a (.+?) /></a></div>'\n",
    "    Link = re.compile(search_word,re.DOTALL)\n",
    "    LinkList = re.findall(Link,html)\n",
    "    return LinkList"
   ]
  },
  {
   "cell_type": "code",
   "execution_count": 8,
   "metadata": {
    "collapsed": true
   },
   "outputs": [],
   "source": [
    "f = open('../data/raw_data/fulluserdata_start34_1.txt','r')\n",
    "lines = f.read()\n",
    "users = lines.split(\"username:\")"
   ]
  },
  {
   "cell_type": "code",
   "execution_count": 238,
   "metadata": {
    "collapsed": false,
    "scrolled": true
   },
   "outputs": [],
   "source": [
    "columns = ['question','answer','likes','date']\n",
    "df = pd.DataFrame(columns=columns)\n",
    "for n in range(1,len(users)-1):#\n",
    "    temp = pd.DataFrame([[\"q\",\"an\",\"l\",\"t\"]],columns=columns)\n",
    "\n",
    "    t = getTimeofPost(users[n])\n",
    "    q = getQuestion(users[n])\n",
    "    an = getAnswer(users[n])\n",
    "    l = getLikes(users[n])\n",
    "    #u = len(t)*usr\n",
    "    try:\n",
    "        d = {'question': q, 'answer': an, 'likes':l, 'date':t}\n",
    "        temp = pd.DataFrame(data=d)\n",
    "        df = df.append(temp,ignore_index=True)\n",
    "    except:\n",
    "        print n\n",
    "        print len(q),len(an),len(t),len(l)"
   ]
  },
  {
   "cell_type": "code",
   "execution_count": 239,
   "metadata": {
    "collapsed": false
   },
   "outputs": [
    {
     "data": {
      "text/html": [
       "<div>\n",
       "<table border=\"1\" class=\"dataframe\">\n",
       "  <thead>\n",
       "    <tr style=\"text-align: right;\">\n",
       "      <th></th>\n",
       "      <th>answer</th>\n",
       "      <th>date</th>\n",
       "      <th>likes</th>\n",
       "      <th>question</th>\n",
       "    </tr>\n",
       "  </thead>\n",
       "  <tbody>\n",
       "    <tr>\n",
       "      <th>0</th>\n",
       "      <td>\\n    &lt;p class=\"streamItemContent streamItemCo...</td>\n",
       "      <td>\\n      \\n      &lt;a title=\"March 28, 2017 14:23...</td>\n",
       "      <td>href=\"/MzelleClem/answers/140838031710\"&gt;2</td>\n",
       "      <td>\\n      &lt;h2&gt;As-tu déjà menti sur ton âge?&lt;/h2&gt;...</td>\n",
       "    </tr>\n",
       "    <tr>\n",
       "      <th>1</th>\n",
       "      <td>\\n    &lt;p class=\"streamItemContent streamItemCo...</td>\n",
       "      <td>\\n      \\n      &lt;a title=\"March 27, 2017 11:12...</td>\n",
       "      <td>style=\"display:none\" href=\"/MzelleClem/answers...</td>\n",
       "      <td>\\n      &lt;h2&gt;À quand remonte la dernière fois q...</td>\n",
       "    </tr>\n",
       "    <tr>\n",
       "      <th>2</th>\n",
       "      <td>\\n    &lt;p class=\"streamItemContent streamItemCo...</td>\n",
       "      <td>\\n      \\n      &lt;a title=\"March 23, 2017 07:30...</td>\n",
       "      <td>style=\"display:none\" href=\"/MzelleClem/answers...</td>\n",
       "      <td>\\n      &lt;h2&gt;Douche ou bain?&lt;/h2&gt;\\n      \\n</td>\n",
       "    </tr>\n",
       "    <tr>\n",
       "      <th>3</th>\n",
       "      <td>\\n    &lt;p class=\"streamItemContent streamItemCo...</td>\n",
       "      <td>\\n      \\n      &lt;a title=\"March 22, 2017 12:29...</td>\n",
       "      <td>style=\"display:none\" href=\"/MzelleClem/answers...</td>\n",
       "      <td>\\n      &lt;h2&gt;Quel est ton niveau de jalousie su...</td>\n",
       "    </tr>\n",
       "    <tr>\n",
       "      <th>4</th>\n",
       "      <td>\\n    &lt;p class=\"streamItemContent streamItemCo...</td>\n",
       "      <td>\\n      \\n      &lt;a title=\"March 22, 2017 12:28...</td>\n",
       "      <td>style=\"display:none\" href=\"/MzelleClem/answers...</td>\n",
       "      <td>\\n      &lt;h2&gt;Quelle compétence aimerais-tu appr...</td>\n",
       "    </tr>\n",
       "  </tbody>\n",
       "</table>\n",
       "</div>"
      ],
      "text/plain": [
       "                                              answer  \\\n",
       "0  \\n    <p class=\"streamItemContent streamItemCo...   \n",
       "1  \\n    <p class=\"streamItemContent streamItemCo...   \n",
       "2  \\n    <p class=\"streamItemContent streamItemCo...   \n",
       "3  \\n    <p class=\"streamItemContent streamItemCo...   \n",
       "4  \\n    <p class=\"streamItemContent streamItemCo...   \n",
       "\n",
       "                                                date  \\\n",
       "0  \\n      \\n      <a title=\"March 28, 2017 14:23...   \n",
       "1  \\n      \\n      <a title=\"March 27, 2017 11:12...   \n",
       "2  \\n      \\n      <a title=\"March 23, 2017 07:30...   \n",
       "3  \\n      \\n      <a title=\"March 22, 2017 12:29...   \n",
       "4  \\n      \\n      <a title=\"March 22, 2017 12:28...   \n",
       "\n",
       "                                               likes  \\\n",
       "0          href=\"/MzelleClem/answers/140838031710\">2   \n",
       "1  style=\"display:none\" href=\"/MzelleClem/answers...   \n",
       "2  style=\"display:none\" href=\"/MzelleClem/answers...   \n",
       "3  style=\"display:none\" href=\"/MzelleClem/answers...   \n",
       "4  style=\"display:none\" href=\"/MzelleClem/answers...   \n",
       "\n",
       "                                            question  \n",
       "0  \\n      <h2>As-tu déjà menti sur ton âge?</h2>...  \n",
       "1  \\n      <h2>À quand remonte la dernière fois q...  \n",
       "2         \\n      <h2>Douche ou bain?</h2>\\n      \\n  \n",
       "3  \\n      <h2>Quel est ton niveau de jalousie su...  \n",
       "4  \\n      <h2>Quelle compétence aimerais-tu appr...  "
      ]
     },
     "execution_count": 239,
     "metadata": {},
     "output_type": "execute_result"
    }
   ],
   "source": [
    "df.head()"
   ]
  },
  {
   "cell_type": "code",
   "execution_count": 240,
   "metadata": {
    "collapsed": false
   },
   "outputs": [],
   "source": [
    "## clean likes\n",
    "f = lambda x: int(x[x.find('>')+1:])\n",
    "df['likes']=df['likes'].apply(f)\n",
    "\n",
    "\n",
    "## clean date\n",
    "f = lambda x: x[x.find('title')+7:]\n",
    "df['date'] = df['date'].apply(f)\n",
    "\n",
    "\n",
    "\n"
   ]
  },
  {
   "cell_type": "code",
   "execution_count": 241,
   "metadata": {
    "collapsed": false
   },
   "outputs": [],
   "source": [
    "## clean question\n",
    "f = lambda x: str(x)\n",
    "df['question'] = df['question'].apply(f)\n",
    "\n",
    "f = lambda x: x[x.find('<h2>')+4:x.find('</h2>')]\n",
    "df['question'] = df['question'].apply(f)\n",
    "\n",
    "\n",
    "def getLinks(txt):\n",
    "    search_word = 'http://ask.fm/(.+?)</a>'\n",
    "    link = re.compile(search_word)\n",
    "    links = re.findall(link,txt)\n",
    "    if len(links)>0:\n",
    "        return True\n",
    "    else:\n",
    "        return False\n",
    "\n",
    "f = lambda x: x.replace(x[x.find('<a target'):x.find('</a>')+4],'$URL') if getLinks(x) else x\n",
    "df['question'] = df['question'].apply(f)\n",
    "\n",
    "f = lambda x: getAuthor(x)\n",
    "df['author'] = df['question'].apply(f)\n",
    "\n",
    "f = lambda x: x[0][:x[0].find('\"')] if len(x)>0 else \"\"\n",
    "df['author'] = df['author'].apply(f)"
   ]
  },
  {
   "cell_type": "code",
   "execution_count": 242,
   "metadata": {
    "collapsed": false
   },
   "outputs": [],
   "source": [
    "## get answer\n",
    "\n",
    "    \n",
    "def case1(txt): # text only\n",
    "    search_word = '<p class=\"streamItemContent streamItemContent-answer\">(.+?)</p>'\n",
    "    answer = re.findall(re.compile(search_word,re.DOTALL),txt)\n",
    "    return answer[0]\n",
    "\n",
    "def case2(txt): # text and media\n",
    "    search_word = '<p class=\"streamItemContent streamItemContent-answer\">(.+?)</p>'\n",
    "    answer = re.findall(re.compile(search_word,re.DOTALL),txt)\n",
    "    return answer[0]+' $URL_media'\n",
    "        \n",
    "def case3(txt): # media only\n",
    "    answer = '$URL_media'\n",
    "    return answer\n",
    "    \n",
    "def getCleanAnswer(x):    \n",
    "    if x.find('streamItemContent streamItemContent-answer\">')>-1:\n",
    "        if x.find('streamItemContent streamItemContent-visual')>-1:\n",
    "            xx = case2(x)\n",
    "        else:\n",
    "            xx = case1(x)    \n",
    "    else:\n",
    "        xx = case3(x)\n",
    "    return xx\n",
    "        \n",
    "f = lambda x: getCleanAnswer(x)\n",
    "df['temp'] = df['answer'].apply(f)\n"
   ]
  },
  {
   "cell_type": "code",
   "execution_count": 243,
   "metadata": {
    "collapsed": false
   },
   "outputs": [],
   "source": [
    "\n",
    "## get media link in the answer\n",
    "\n",
    "def image(txt):\n",
    "    search_word = '<div class=\"streamItemContent streamItemContent-visual\">(.+?)</div>'\n",
    "    image_links = re.findall(re.compile(search_word,re.DOTALL),txt)\n",
    "    image_links = image_links[0]\n",
    "\n",
    "    image_links = image_links[image_links.find('https:'):]\n",
    "    image_link = image_links[:image_links.find('\"')]\n",
    "        \n",
    "    if len(image_link)<4:\n",
    "        print 'old ',image_links\n",
    "    return image_link\n",
    "    \n",
    "    \n",
    "def case3(txt): # media only\n",
    "    answer = '$URL_media'\n",
    "    return answer\n",
    "    \n",
    "def getLinkAnswer(x):    \n",
    "    if x.find('streamItemContent streamItemContent-answer')>0:\n",
    "        if x.find('streamItemContent streamItemContent-visual')>0:\n",
    "            xx = image(x)\n",
    "        else:\n",
    "            xx = ''   \n",
    "    else:\n",
    "        xx = image(x)\n",
    "    return xx\n",
    "        \n",
    "f = lambda x: getLinkAnswer(x)\n",
    "df['answer_links'] = df['answer'].apply(f)\n",
    "\n",
    "\n",
    "df['answer'] = df['temp']\n",
    "\n",
    "del df['temp']"
   ]
  },
  {
   "cell_type": "code",
   "execution_count": 247,
   "metadata": {
    "collapsed": false
   },
   "outputs": [
    {
     "data": {
      "text/html": [
       "<div>\n",
       "<table border=\"1\" class=\"dataframe\">\n",
       "  <thead>\n",
       "    <tr style=\"text-align: right;\">\n",
       "      <th></th>\n",
       "      <th>answer</th>\n",
       "      <th>date</th>\n",
       "      <th>likes</th>\n",
       "      <th>question</th>\n",
       "      <th>author</th>\n",
       "      <th>answer_links</th>\n",
       "    </tr>\n",
       "  </thead>\n",
       "  <tbody>\n",
       "    <tr>\n",
       "      <th>0</th>\n",
       "      <td>Non</td>\n",
       "      <td>March 28, 2017 14:23:16 GMT</td>\n",
       "      <td>2</td>\n",
       "      <td>As-tu déjà menti sur ton âge?</td>\n",
       "      <td></td>\n",
       "      <td></td>\n",
       "    </tr>\n",
       "    <tr>\n",
       "      <th>1</th>\n",
       "      <td>Je commande pas je les fais</td>\n",
       "      <td>March 27, 2017 11:12:13 GMT</td>\n",
       "      <td>0</td>\n",
       "      <td>À quand remonte la dernière fois que tu as com...</td>\n",
       "      <td></td>\n",
       "      <td></td>\n",
       "    </tr>\n",
       "    <tr>\n",
       "      <th>2</th>\n",
       "      <td>Les deux</td>\n",
       "      <td>March 23, 2017 07:30:32 GMT</td>\n",
       "      <td>0</td>\n",
       "      <td>Douche ou bain?</td>\n",
       "      <td></td>\n",
       "      <td></td>\n",
       "    </tr>\n",
       "    <tr>\n",
       "      <th>3</th>\n",
       "      <td>5/6</td>\n",
       "      <td>March 22, 2017 12:29:38 GMT</td>\n",
       "      <td>0</td>\n",
       "      <td>Quel est ton niveau de jalousie sur une échell...</td>\n",
       "      <td></td>\n",
       "      <td></td>\n",
       "    </tr>\n",
       "    <tr>\n",
       "      <th>4</th>\n",
       "      <td>La langue des signes parce que je trouve ça su...</td>\n",
       "      <td>March 22, 2017 12:28:27 GMT</td>\n",
       "      <td>0</td>\n",
       "      <td>Quelle compétence aimerais-tu apprendre et pou...</td>\n",
       "      <td></td>\n",
       "      <td></td>\n",
       "    </tr>\n",
       "  </tbody>\n",
       "</table>\n",
       "</div>"
      ],
      "text/plain": [
       "                                              answer  \\\n",
       "0                                                Non   \n",
       "1                        Je commande pas je les fais   \n",
       "2                                           Les deux   \n",
       "3                                                5/6   \n",
       "4  La langue des signes parce que je trouve ça su...   \n",
       "\n",
       "                          date  likes  \\\n",
       "0  March 28, 2017 14:23:16 GMT      2   \n",
       "1  March 27, 2017 11:12:13 GMT      0   \n",
       "2  March 23, 2017 07:30:32 GMT      0   \n",
       "3  March 22, 2017 12:29:38 GMT      0   \n",
       "4  March 22, 2017 12:28:27 GMT      0   \n",
       "\n",
       "                                            question author answer_links  \n",
       "0                      As-tu déjà menti sur ton âge?                      \n",
       "1  À quand remonte la dernière fois que tu as com...                      \n",
       "2                                    Douche ou bain?                      \n",
       "3  Quel est ton niveau de jalousie sur une échell...                      \n",
       "4  Quelle compétence aimerais-tu apprendre et pou...                      "
      ]
     },
     "execution_count": 247,
     "metadata": {},
     "output_type": "execute_result"
    }
   ],
   "source": [
    "df.head()"
   ]
  },
  {
   "cell_type": "code",
   "execution_count": null,
   "metadata": {
    "collapsed": true
   },
   "outputs": [],
   "source": [
    "# this is the pattern when there is txt+image in answer\n",
    "\n",
    "'  <div class=\"answerWrapper\">\n",
    "    <p class=\"streamItemContent streamItemContent-answer\">Kim Seeve</p>\n",
    "    <p class=\"readMore\">\n",
    "      <a class=\"button\" data-action=\"ReadMore\" href=\"#\">View more</a>\n",
    "    </p>\n",
    "  </div>\n",
    "\n",
    "    <div class=\"streamItemContent streamItemContent-visual\">  <div class=\"streamItem-visualItem\">\n",
    "    <a data-gtm=\"{&quot;name&quot;:&quot;popup&quot;,&quot;meta&quot;:[&quot;media&quot;,&quot;Media&quot;,\n",
    "    &quot;Photo&quot;]}\" \n",
    "    data-action=\"ImageOpen\" data-url=\"https://akphoto1.ask.fm/990/462/749/150003011-1rr4353-khgf6gt53qdrl7f/\n",
    "    large/file.jpg\" href=\"/KimSeverr/answers/68013999121/photo\"><img onerror=\"this.src=&#39;https://\n",
    "    static.ask.fm/assets/no-image-0b30a778d766680b5d174333c571a1fa4189ffded12bc17da057d8de0900f032.png&#39;;\n",
    "    this.onerror=&#39;&#39;\" src=\"https://akphoto1.ask.fm/990/462/749/150003011-1rr4353-khgf6gt53qdrl7f/original/file.jpg\" /></a></div>\n",
    "</div>'\n",
    "\n",
    "  <div class=\"streamItemContent streamItemContent-footer\">\n",
    "\n",
    "\n",
    "\n",
    "# this is the pattern when there is only image\n",
    "\n",
    "\n",
    "  <div class=\"answerWrapper\">\n",
    "    \n",
    "    <p class=\"readMore\">\n",
    "      <a class=\"button\" data-action=\"ReadMore\" href=\"#\">View more</a>\n",
    "    </p>\n",
    "  </div>\n",
    "\n",
    "    <div class=\"streamItemContent streamItemContent-visual\">  \n",
    "    <div class=\"streamItem-visualItem\"><a data-gtm=\"\n",
    "    {&quot;name&quot;:&quot;popup&quot;,&quot;meta&quot;:\n",
    "     [&quot;media&quot;,&quot;Media&quot;,&quot;Photo&quot;]}\" \n",
    "    data-action=\"ImageOpen\" data-url=\"https://akphoto2.ask.fm/a5b/55ee9/e808/4b63/8799/c04c81425948/large/3310423.jpg\" \n",
    "    href=\"/nicoliersch16/answers/140600674898/photo\"><img onerror=\"this.src=&#39;https://static.ask.fm/assets/no-image-0b30a778d766680b5d174333c571a1fa4189ffded12bc17da057d8de0900f032.png&#39;;this.onerror=&#39;&#39;\" src=\"https://akphoto2.ask.fm/a5b/55ee9/e808/4b63/8799/c04c81425948/original/3310423.jpg\" /></a></div>\n",
    "</div>\n",
    "\n",
    "  <div class=\"streamItemContent streamItemContent-footer\">\n",
    "    \n",
    "    \n",
    "# this is the pattern when there is only txt\n",
    "\n",
    "  <div class=\"answerWrapper\">\n",
    "    <p class=\"streamItemContent streamItemContent-answer\">Eyes????</p>\n",
    "    <p class=\"readMore\">\n",
    "      <a class=\"button\" data-action=\"ReadMore\" href=\"#\">View more</a>\n",
    "    </p>\n",
    "  </div>\n",
    "\n",
    "    \n",
    "\n",
    "  <div class=\"streamItemContent streamItemContent-footer\">"
   ]
  },
  {
   "cell_type": "code",
   "execution_count": null,
   "metadata": {
    "collapsed": true
   },
   "outputs": [],
   "source": [
    "## finding metioning pattern \n",
    "\n",
    "<a dir=\"ltr\" href=\"/kiddflava\">@kiddflava</a>\n",
    "\n",
    "<a dir=\"ltr\" href=\"/sarmadnauman\">@sarmadnauman</a>\n",
    "\n",
    "<a dir=\"ltr\" href=\"/rossy63\">@rossy63</a> \n",
    "\n",
    "## it's the same in answer or question\n",
    "\n"
   ]
  },
  {
   "cell_type": "markdown",
   "metadata": {},
   "source": [
    "## OK, what else? lets now clean the mentions"
   ]
  },
  {
   "cell_type": "code",
   "execution_count": 246,
   "metadata": {
    "collapsed": true
   },
   "outputs": [],
   "source": [
    "def getMention(txt):\n",
    "    p = re.compile('<a dir=\"ltr\" href=\"(.+?)</a>')\n",
    "    new_txt = p.sub('$mention',txt)\n",
    "    return new_txt\n",
    "f = lambda x : getMention(x)\n",
    "\n",
    "df['answer'] = df['answer'].apply(f)\n",
    "df['question'] = df['question'].apply(f)"
   ]
  },
  {
   "cell_type": "markdown",
   "metadata": {},
   "source": [
    "## Now let's clean the emotiocons "
   ]
  },
  {
   "cell_type": "code",
   "execution_count": 249,
   "metadata": {
    "collapsed": false
   },
   "outputs": [
    {
     "data": {
      "text/plain": [
       "array(['',\n",
       "       'https://akphoto2.ask.fm/ae6/acfd0/dce2/48c9/bbf4/1787d0f73892/large/381671.jpg',\n",
       "       'https://akphoto2.ask.fm/05a/fdd68/d7e8/4312/b4bb/7aefd5435bce/large/797103.jpg',\n",
       "       ...,\n",
       "       'https://akphoto4.ask.fm/034/532/292/80003002-1r4an51-a6630t8kqg7d7rf/large/avatar.jpg',\n",
       "       'https://akphoto2.ask.fm/644/55c29/b6bb/47be/b412/0b2340ec7aa2/large/206097.jpg',\n",
       "       'https://akphoto2.ask.fm/285/215/621/710003000-1rk89j1-hbojjpla9opehf0/large/1560394_245162575673405_4325840948489570080_n.jpg'], dtype=object)"
      ]
     },
     "execution_count": 249,
     "metadata": {},
     "output_type": "execute_result"
    }
   ],
   "source": [
    "df.answer_links.unique()"
   ]
  },
  {
   "cell_type": "code",
   "execution_count": null,
   "metadata": {
    "collapsed": true
   },
   "outputs": [],
   "source": []
  }
 ],
 "metadata": {
  "anaconda-cloud": {},
  "kernelspec": {
   "display_name": "Python 2",
   "language": "python",
   "name": "python2"
  },
  "language_info": {
   "codemirror_mode": {
    "name": "ipython",
    "version": 2
   },
   "file_extension": ".py",
   "mimetype": "text/x-python",
   "name": "python",
   "nbconvert_exporter": "python",
   "pygments_lexer": "ipython2",
   "version": "2.7.13"
  }
 },
 "nbformat": 4,
 "nbformat_minor": 0
}
